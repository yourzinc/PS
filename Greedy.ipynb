{
 "cells": [
  {
   "cell_type": "markdown",
   "id": "814da896",
   "metadata": {},
   "source": [
    "1. 프로그래머스 - 체육복\n",
    "\n",
    "문제 해결 아이디어\n",
    "- 여분을 가지고 있던 학생이 도난을 당하면, 여분의 체육복을 다른이에게 빌려줄 수 없기 때문에, lost와 reserve의 차집합으로 다시 정의함\n",
    "- lost 를 돌면서, 앞번호나 뒷번호가 여분을 가지고 있다면 그것을 reserve 에서 제거함\n",
    "- 여분이 없다면 n=-1로 체육복을 입지 못하는 학생을 한명을 반영함"
   ]
  },
  {
   "cell_type": "code",
   "execution_count": null,
   "id": "9776aa78",
   "metadata": {},
   "outputs": [],
   "source": [
    "\n",
    "def solution(n, lost, reserve):\n",
    "    \n",
    "    set_lost = set(lost)-set(reserve)\n",
    "    set_reserve = set(reserve)-set(lost)\n",
    "    \n",
    "    lost = list(set_lost)\n",
    "    reserve = list(set_reserve)\n",
    "    \n",
    "    for l in lost:\n",
    "        if l-1 in reserve:\n",
    "            reserve.remove(l-1)\n",
    "        elif l+1 in reserve:\n",
    "            reserve.remove(l+1)\n",
    "        else:\n",
    "            n = n-1\n",
    "    \n",
    "    return n"
   ]
  },
  {
   "cell_type": "markdown",
   "id": "5e44d67e",
   "metadata": {},
   "source": [
    "2. 프로그래머스 - 조이스틱\n",
    "\n",
    "소요시간 : 30분\n",
    "성공여부 : 실패\n",
    "\n",
    "문제 해결 아이디어\n",
    "- 조이스틱의 상하 최소의 움직임으로 알파벳을 변경\n",
    "- 조이스틱의 좌우 최소 움직임에 대한 아이디어를 생각하지 못함"
   ]
  },
  {
   "cell_type": "code",
   "execution_count": null,
   "id": "2f9c5518",
   "metadata": {},
   "outputs": [],
   "source": [
    "\n",
    "def solution(name):\n",
    "    answer = 0\n",
    "    \n",
    "    for idx, val in enumerate(name):\n",
    "        answer = answer + min(ord(val)-ord('A'), ord('A')-ord(val)+26) \n",
    "        answer = answer + 1\n",
    "        \n",
    "    answer = answer -1\n",
    "    \n",
    "    return answer"
   ]
  },
  {
   "cell_type": "markdown",
   "id": "3e240aed",
   "metadata": {},
   "source": [
    "피드백\n",
    "- 기본 최소 이동 횟수 = len(name) - 1\n",
    "- 연속되는 A가 있을 때, 그것의 왼쪽이나 오른쪽부터 시작하며 알파벳을 변경하는 것이 가장 효율적\n",
    "- 연속되는 A의 최대 길이가 핵심포인트\n",
    "- 다만, 연속되는 A가 여러군데인 경우 가장 긴 부분을안가는게 더 효율적"
   ]
  },
  {
   "cell_type": "code",
   "execution_count": null,
   "id": "c7ea50f6",
   "metadata": {},
   "outputs": [],
   "source": [
    "\n",
    "def solution(name):\n",
    "    answer = 0\n",
    "    min_move = len(name) -1\n",
    "    \n",
    "    for idx, val in enumerate(name):\n",
    "        answer += min(ord(val)-ord('A'), ord('A')-ord(val)+26)\n",
    "        \n",
    "        # next : 연속된 'A'의 맨끝 위치\n",
    "        next = idx+1\n",
    "        while next <len(name) and name[next] =='A':\n",
    "            next +=1\n",
    "            \n",
    "        min_move = min([min_move, 2*i+len(name)-next. i+2*(len(name)-next)])\n",
    "        \n",
    "    answer += min_move\n",
    "    return answer"
   ]
  }
 ],
 "metadata": {
  "kernelspec": {
   "display_name": "Python 3 (ipykernel)",
   "language": "python",
   "name": "python3"
  },
  "language_info": {
   "codemirror_mode": {
    "name": "ipython",
    "version": 3
   },
   "file_extension": ".py",
   "mimetype": "text/x-python",
   "name": "python",
   "nbconvert_exporter": "python",
   "pygments_lexer": "ipython3",
   "version": "3.10.8"
  }
 },
 "nbformat": 4,
 "nbformat_minor": 5
}

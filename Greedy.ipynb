{
 "cells": [
  {
   "cell_type": "markdown",
   "id": "814da896",
   "metadata": {},
   "source": [
    "1. 프로그래머스 - 체육복\n",
    "\n",
    "문제 해결 아이디어\n",
    "- 여분을 가지고 있던 학생이 도난을 당하면, 여분의 체육복을 다른이에게 빌려줄 수 없기 때문에, lost와 reserve의 차집합으로 다시 정의함\n",
    "- lost 를 돌면서, 앞번호나 뒷번호가 여분을 가지고 있다면 그것을 reserve 에서 제거함\n",
    "- 여분이 없다면 n=-1로 체육복을 입지 못하는 학생을 한명을 반영함"
   ]
  },
  {
   "cell_type": "code",
   "execution_count": null,
   "id": "9776aa78",
   "metadata": {},
   "outputs": [],
   "source": [
    "\n",
    "def solution(n, lost, reserve):\n",
    "    \n",
    "    set_lost = set(lost)-set(reserve)\n",
    "    set_reserve = set(reserve)-set(lost)\n",
    "    \n",
    "    lost = list(set_lost)\n",
    "    reserve = list(set_reserve)\n",
    "    \n",
    "    for l in lost:\n",
    "        if l-1 in reserve:\n",
    "            reserve.remove(l-1)\n",
    "        elif l+1 in reserve:\n",
    "            reserve.remove(l+1)\n",
    "        else:\n",
    "            n = n-1\n",
    "    \n",
    "    return n"
   ]
  }
 ],
 "metadata": {
  "kernelspec": {
   "display_name": "Python 3 (ipykernel)",
   "language": "python",
   "name": "python3"
  },
  "language_info": {
   "codemirror_mode": {
    "name": "ipython",
    "version": 3
   },
   "file_extension": ".py",
   "mimetype": "text/x-python",
   "name": "python",
   "nbconvert_exporter": "python",
   "pygments_lexer": "ipython3",
   "version": "3.10.8"
  }
 },
 "nbformat": 4,
 "nbformat_minor": 5
}

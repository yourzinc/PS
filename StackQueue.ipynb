{
 "cells": [
  {
   "cell_type": "code",
   "execution_count": null,
   "metadata": {},
   "outputs": [],
   "source": [
    "1. 프로그래머스 - 같은 숫자는 싫어\n",
    "\n",
    "문제 해결 아이디어\n",
    "- s 는 바로 이전의 숫자를 저장하는 스택\n",
    "- answer 는 연속적으로 나타나는 숫자가 달라질 때, 이전 숫자를 저장하는 배열\n",
    "\n",
    "* 보완\n",
    "- s 는 스택(배열)이 아니라 변수 하나로 설정해도 되었다"
   ]
  },
  {
   "cell_type": "code",
   "execution_count": null,
   "metadata": {},
   "outputs": [],
   "source": [
    "# 1\n",
    "def solution(arr):\n",
    "    s = []\n",
    "    answer = []\n",
    "    for a in arr:\n",
    "        if len(s) == 0:\n",
    "            s.append(a)\n",
    "        elif s[-1] != a:\n",
    "            answer.append(s.pop())\n",
    "            s.append(a)\n",
    "    answer.append(s.pop())\n",
    "    return answer"
   ]
  },
  {
   "cell_type": "code",
   "execution_count": null,
   "metadata": {},
   "outputs": [],
   "source": [
    "# 2\n",
    "def solution(arr):\n",
    "    s = ''\n",
    "    answer = []\n",
    "    for a in arr:\n",
    "        if s == '':\n",
    "            s = a\n",
    "        elif s != a:\n",
    "            answer.append(s)\n",
    "            s = a\n",
    "    answer.append(s)\n",
    "    return answer"
   ]
  }
 ],
 "metadata": {
  "language_info": {
   "name": "python"
  },
  "orig_nbformat": 4
 },
 "nbformat": 4,
 "nbformat_minor": 2
}
